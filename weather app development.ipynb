{
 "cells": [
  {
   "cell_type": "code",
   "execution_count": 1,
   "id": "8ac1cdfe",
   "metadata": {},
   "outputs": [
    {
     "name": "stdout",
     "output_type": "stream",
     "text": [
      "Defaulting to user installation because normal site-packages is not writeable\n",
      "Requirement already satisfied: requests in c:\\programdata\\anaconda3\\lib\\site-packages (2.28.1)\n",
      "Requirement already satisfied: urllib3<1.27,>=1.21.1 in c:\\programdata\\anaconda3\\lib\\site-packages (from requests) (1.26.14)\n",
      "Requirement already satisfied: certifi>=2017.4.17 in c:\\programdata\\anaconda3\\lib\\site-packages (from requests) (2022.12.7)\n",
      "Requirement already satisfied: idna<4,>=2.5 in c:\\programdata\\anaconda3\\lib\\site-packages (from requests) (3.4)\n",
      "Requirement already satisfied: charset-normalizer<3,>=2 in c:\\programdata\\anaconda3\\lib\\site-packages (from requests) (2.0.4)\n",
      "Note: you may need to restart the kernel to use updated packages.\n"
     ]
    }
   ],
   "source": [
    "pip install requests"
   ]
  },
  {
   "cell_type": "code",
   "execution_count": 5,
   "id": "d1df9f3f",
   "metadata": {},
   "outputs": [
    {
     "name": "stdout",
     "output_type": "stream",
     "text": [
      "Enter city: Bengaluru\n",
      "The weather in Bengaluru is: Clouds\n",
      "The temperature in Bengaluru is: 80ºF\n",
      "The humidity in Bengaluru is: 74%\n"
     ]
    }
   ],
   "source": [
    "import requests\n",
    "\n",
    "api_key = '8172a6153d60613b13787343c9f9dc8f'\n",
    "\n",
    "user_input = input(\"Enter city: \")\n",
    "\n",
    "weather_data = requests.get(f\"https://api.openweathermap.org/data/2.5/weather?q={user_input}&units=imperial&APPID={api_key}\")\n",
    "\n",
    "data = weather_data.json()\n",
    "\n",
    "if data['cod'] == 200:\n",
    "    weather = data['weather'][0]['main']\n",
    "    temp = round(data['main']['temp'])\n",
    "    humidity = data['main']['humidity']\n",
    "\n",
    "    print(f\"The weather in {user_input} is: {weather}\")\n",
    "    print(f\"The temperature in {user_input} is: {temp}ºF\")\n",
    "    print(f\"The humidity in {user_input} is: {humidity}%\")\n",
    "else:\n",
    "    print(\"No City Found\")\n"
   ]
  },
  {
   "cell_type": "code",
   "execution_count": null,
   "id": "7deffce5",
   "metadata": {},
   "outputs": [],
   "source": []
  },
  {
   "cell_type": "code",
   "execution_count": null,
   "id": "1c24f89d",
   "metadata": {},
   "outputs": [],
   "source": []
  }
 ],
 "metadata": {
  "kernelspec": {
   "display_name": "Python 3 (ipykernel)",
   "language": "python",
   "name": "python3"
  },
  "language_info": {
   "codemirror_mode": {
    "name": "ipython",
    "version": 3
   },
   "file_extension": ".py",
   "mimetype": "text/x-python",
   "name": "python",
   "nbconvert_exporter": "python",
   "pygments_lexer": "ipython3",
   "version": "3.10.9"
  }
 },
 "nbformat": 4,
 "nbformat_minor": 5
}
